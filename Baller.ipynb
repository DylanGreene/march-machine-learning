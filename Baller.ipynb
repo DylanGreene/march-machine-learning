{
 "cells": [
  {
   "cell_type": "markdown",
   "metadata": {},
   "source": [
    "# March Machine Learning"
   ]
  },
  {
   "cell_type": "markdown",
   "metadata": {},
   "source": [
    "## Overview\n",
    "This notebook will load in the datasets."
   ]
  },
  {
   "cell_type": "markdown",
   "metadata": {},
   "source": [
    "## Dataset\n",
    "\n",
    "#### RegularSeasonDetailedResults.csv and TourneyDetailedResults.csv\n",
    "\n",
    "These file identifies the game-by-game results for 32 seasons of historical data, from 1985 to 2015. Each row in the file represents a single game played. From this file we use the following:\n",
    "\n",
    "  * \"season\" - this is the year of the associated entry in seasons.csv\n",
    "  * \"wteam\" - this identifies the id number of the team that won the game\n",
    "  * \"wscore\" - this identifies the number of points scored by the winning team  \n",
    "  * \"lteam\" - this identifies the id number of the team that lost the game\n",
    "  * \"lscore\" - this identifies the number of points scored by the losing team\n",
    "  * \"wfgm\" - field goals made\n",
    "  * \"wfga\" - field goals attempted\n",
    "  * \"wfgm3\" - three pointers made\n",
    "  * \"wfga3\" - three pointers attempted\n",
    "  * \"wftm\" - free throws made\n",
    "  * \"wfta\" - free throws attempted\n",
    "  * \"wast\" - assists\n",
    "  * \"wto\" - turnovers\n",
    "  \n",
    "#### Seasons.csv\n",
    "This file identifies the seeds for all teams in each NCAA tournament, for all seasons of historical data. Thus, there are between 64-68 rows for each year, depending on the bracket structure.\n",
    "\n",
    "  * \"season\" - the year\n",
    "  * \"seed\" - this is a 3/4-character identifier of the seed, where the first character is either W, X, Y, or Z (identifying the region the team was in) and the next two digits (either 01, 02, ..., 15, or 16) tells you the seed within the region. For play-in teams, there is a fourth character (a or b) to further distinguish the seeds, since teams that face each other in the play-in games will have the same first three characters. For example, the first record in the file is seed W01, which means we are looking at the #1 seed in the W region (which we can see from the \"seasons.csv\" file was the East region). This seed is also referenced in the \"tourney_slots.csv\" file that tells us which bracket slots face which other bracket slots in which rounds.\n",
    "  * \"team\" - this identifies the id number of the team, as specified in the teams.csv file\n",
    "\n",
    "#### Teams.csv\n",
    "\n",
    "This file identifies the different college teams present in the dataset. Each team has a 4 digit id number\n",
    "  \n",
    "#### TourneySeeds.csv\n",
    "\n",
    "This file identifies the seeds for all teams in each NCAA tournament, for all seasons of historical data. Thus, there are between 64-68 rows for each year, depending on the bracket structure.\n",
    "\n",
    "  * \"season\" - the year\n",
    "  * \"seed\" - this is a 3/4-character identifier of the seed, where the first character is either W, X, Y, or Z (identifying the region the team was in) and the next two digits (either 01, 02, ..., 15, or 16) tells you the seed within the region. For play-in teams, there is a fourth character (a or b) to further distinguish the seeds, since teams that face each other in the play-in games will have the same first three characters. For example, the first record in the file is seed W01, which means we are looking at the #1 seed in the W region (which we can see from the \"seasons.csv\" file was the East region). This seed is also referenced in the \"tourney_slots.csv\" file that tells us which bracket slots face which other bracket slots in which rounds.\n",
    "  * \"team\" - this identifies the id number of the team, as specified in the teams.csv file\n",
    "\n",
    "#### TourneySlots.csv\n",
    "\n",
    "This file identifies the mechanism by which teams are paired against each other, depending upon their seeds. Because of the existence of play-in games for particular seed numbers, the pairings have small differences from year to year. If there were N teams in the tournament during a particular year, there were N-1 teams eliminated (leaving one champion) and therefore N-1 games played, as well as N-1 slots in the tournament bracket, and thus there will be N-1 records in this file for that season.\n",
    "\n",
    "  * \"season\" - the year\n",
    "  * \"slot\" - this uniquely identifies one of the tournament games. For play-in games, it is a three-character string identifying the seed fulfilled by the winning team, such as W16 or Z13. For regular tournament games, it is a four-character string, where the first two characters tell you which round the game is (R1, R2, R3, R4, R5, or R6) and the second two characters tell you the expected seed of the favored team. Thus the first row is R1W1, identifying the Round 1 game played in the W bracket, where the favored team is the 1 seed. As a further example, the R2W1 slot indicates the Round 2 game that would have the 1 seed from the W bracket, assuming that all favored teams have won up to that point. The slot names are different for the final two rounds, where R5WX identifies the national semifinal game between the winners of regions W and X, and R5YZ identifies the national semifinal game between the winners of regions Y and Z, and R6CH identifies the championship game. The \"slot\" value is used in other columns in order to represent the advancement and pairings of winners of previous games.\n",
    "  * \"strongseed\" - this indicates the expected higher-seeded (lower seed number) team that plays in this game\n",
    "  * \"weakseed\" - this indicates the expected weaker-seeded team that plays in this game"
   ]
  },
  {
   "cell_type": "markdown",
   "metadata": {},
   "source": [
    "## Read and Process Data"
   ]
  },
  {
   "cell_type": "markdown",
   "metadata": {},
   "source": [
    "### Open the datafiles and load into Pandas dataframes "
   ]
  },
  {
   "cell_type": "code",
   "execution_count": 133,
   "metadata": {
    "collapsed": false
   },
   "outputs": [],
   "source": [
    "\n",
    "# Import necessary tools\n",
    "import numpy as np\n",
    "import pandas as pd\n",
    "import pylab as pl\n",
    "import random\n",
    "\n",
    "# Read in the file URL.\n",
    "season_results_file = 'Data/2017/RegularSeasonDetailedResults.csv'\n",
    "tourney_results_file = 'Data/2017/TourneyDetailedResults.csv'\n",
    "teams_file = 'Data/2017/Teams.csv'\n",
    "\n",
    "results = pd.read_csv(season_results_file)\n",
    "tourney_results = pd.read_csv(tourney_results_file)\n",
    "teams = pd.read_csv(teams_file)\n",
    "\n",
    "# Read in the files for bracket structure and seeding\n",
    "tourney_slots_file = 'Data/2017/TourneySlots.csv'\n",
    "tourney_seeds_file = 'Data/2017/TourneySeeds.csv'\n",
    "tourney_slots = pd.read_csv(tourney_slots_file)\n",
    "tourney_seeds = pd.read_csv(tourney_seeds_file)\n"
   ]
  },
  {
   "cell_type": "markdown",
   "metadata": {},
   "source": [
    "### Select features to use and calculate season averages for each team\n",
    "\n",
    "The `get_team_averages(teamid, year)` function will return the feature vector for a team. The feature vector will consist of what we use to train and test our model based on what we assume to be the most important aspects of a college basketball game. These statistics are calculated as an average over the entire regurlar season for the given year.\n",
    "  \n",
    "  * Field goal percentage\n",
    "  * 3-point percentage \n",
    "  * Free-throw percentage \n",
    "  * Assists\n",
    "  * Turnovers\n",
    "  * Tournament seed"
   ]
  },
  {
   "cell_type": "code",
   "execution_count": 134,
   "metadata": {
    "collapsed": false
   },
   "outputs": [],
   "source": [
    "\n",
    "def get_team_averages(teamid, year):\n",
    "    team_averages = dict()\n",
    "    season_results = results.loc[results['Season'] == year]\n",
    "\n",
    "    team_wins = season_results.loc[season_results['Wteam'] == teamid]\n",
    "    team_losses = season_results.loc[season_results['Lteam'] == teamid]\n",
    "    num_games = len(team_wins) + len(team_losses)\n",
    "    if not num_games: return None\n",
    "    percent_win = len(team_wins) / num_games\n",
    "    percent_loss = len(team_losses) / num_games\n",
    "\n",
    "    mean_win_results = team_wins.mean()\n",
    "    mean_loss_results = team_losses.mean()\n",
    "    \n",
    "    # Arbitrary features for now\n",
    "    if not len(team_wins):\n",
    "        mean_win_results = mean_win_results.fillna(0)\n",
    "        # Team\n",
    "        field_goal_percentage = mean_loss_results['Wfgm']/mean_loss_results['Wfga']\n",
    "        fg3pt_percentage = mean_loss_results['Wfgm3']/mean_loss_results['Wfga3']\n",
    "        ft_percentage = mean_loss_results['Wftm']/mean_loss_results['Wfta']\n",
    "        # Opp\n",
    "        opp_field_goal_percentage = mean_loss_results['Lfgm']/mean_loss_results['Lfga']\n",
    "        opp_fg3pt_percentage = mean_loss_results['Lfgm3']/mean_loss_results['Lfga3']\n",
    "        opp_ft_percentage = mean_loss_results['Lftm']/mean_loss_results['Lfta']\n",
    "    elif not len(team_losses):\n",
    "        mean_loss_results = mean_loss_results.fillna(0)\n",
    "        # Team\n",
    "        field_goal_percentage = mean_win_results['Lfgm']/mean_win_results['Lfga']\n",
    "        fg3pt_percentage = mean_win_results['Lfgm3']/mean_win_results['Lfga3']\n",
    "        ft_percentage = mean_win_results['Lftm']/mean_win_results['Lfta']\n",
    "        # Opp\n",
    "        opp_field_goal_percentage = mean_win_results['Wfgm']/mean_win_results['Wfga']\n",
    "        opp_fg3pt_percentage = mean_win_results['Wfgm3']/mean_win_results['Wfga3']\n",
    "        opp_ft_percentage = mean_win_results['Wftm']/mean_win_results['Wfta']\n",
    "    else:\n",
    "        # Team\n",
    "        field_goal_percentage = (mean_win_results['Wfgm']*percent_win)/(mean_win_results['Wfga']) + (mean_loss_results['Lfgm']*percent_loss)/(mean_loss_results['Lfga'])\n",
    "        fg3pt_percentage = (mean_win_results['Wfgm3']*percent_win)/(mean_win_results['Wfga3']) + (mean_loss_results['Lfgm3']*percent_loss)/(mean_loss_results['Lfga3'])\n",
    "        ft_percentage = (mean_win_results['Wftm']*percent_win)/(mean_win_results['Wfta']) + (mean_loss_results['Lftm']*percent_loss)/(mean_loss_results['Lfta'])\n",
    "        # Opp\n",
    "        opp_field_goal_percentage = (mean_win_results['Lfgm']*percent_win)/(mean_win_results['Lfga']) + (mean_loss_results['Wfgm']*percent_loss)/(mean_loss_results['Wfga'])\n",
    "        opp_fg3pt_percentage = (mean_win_results['Lfgm3']*percent_win)/(mean_win_results['Lfga3']) + (mean_loss_results['Wfgm3']*percent_loss)/(mean_loss_results['Wfga3'])\n",
    "        opp_ft_percentage = (mean_win_results['Lftm']*percent_win)/(mean_win_results['Lfta']) + (mean_loss_results['Wftm']*percent_loss)/(mean_loss_results['Wfta'])\n",
    "    \n",
    "    # Team\n",
    "    assists = (mean_win_results['Wast']*percent_win) + (mean_loss_results['Last']*percent_loss)\n",
    "    turnovers = (mean_win_results['Wto']*percent_win) + (mean_loss_results['Lto']*percent_loss)\n",
    "    # Opp\n",
    "    opp_assists = (mean_win_results['Last']*percent_win) + (mean_loss_results['Wast']*percent_loss)\n",
    "    opp_turnovers = (mean_win_results['Lto']*percent_win) + (mean_loss_results['Wto']*percent_loss)\n",
    "    \n",
    "    # Tourney Seed\n",
    "    tourney_seeds_year = tourney_seeds.loc[tourney_seeds['Season'] == year]\n",
    "    tourney_seed = tourney_seeds_year.loc[tourney_seeds_year['Team'] == teamid]['Seed']\n",
    "    if len(tourney_seed):\n",
    "        tourney_seed = tourney_seed.tolist()[0][1:]\n",
    "        try:\n",
    "            tourney_seed = float(tourney_seed)\n",
    "        except:\n",
    "            tourney_seed = float(tourney_seed[:-1])\n",
    "    else:\n",
    "        tourney_seed = 20\n",
    "    \n",
    "    return [field_goal_percentage, fg3pt_percentage, ft_percentage, assists, turnovers, tourney_seed,\n",
    "           opp_field_goal_percentage, opp_fg3pt_percentage, opp_ft_percentage, opp_assists, opp_turnovers]\n"
   ]
  },
  {
   "cell_type": "markdown",
   "metadata": {},
   "source": [
    "### Training and testing set creation\n",
    "\n",
    "The training and testing set work by calculating the feature vectors for every single matchup in the reuglar season from 2003 through 2016 and using that and the actual game outcome as training data. It then uses the historical tournament games for all of those years as test data in a similar manner. We have two methods for doing this: averages over the entire regular season, and statistics for individual games."
   ]
  },
  {
   "cell_type": "markdown",
   "metadata": {},
   "source": [
    "#### Average feature vectors\n",
    "\n",
    "The average feature vectors were used for training and for the actual true predicitons. This is becuase the stat line for a particular game would make it very easy to predict the outcome of that particular game."
   ]
  },
  {
   "cell_type": "code",
   "execution_count": 136,
   "metadata": {
    "collapsed": false
   },
   "outputs": [],
   "source": [
    "\n",
    "# Create training data set (2003 through 2016)\n",
    "years = list(range(2003, 2016 + 1))\n",
    "\n",
    "def create_training_set_averages():\n",
    "    training_set_features = []\n",
    "    training_set_class = []\n",
    "    for year in years:\n",
    "        team_stats = dict()\n",
    "        for team in teams['Team_Id']:\n",
    "            team_stats[team] = get_team_averages(team, year)\n",
    "        games = results.loc[results['Season'] == year]\n",
    "        for index, game in games.iterrows():\n",
    "            win_team = team_stats[game['Wteam']]\n",
    "            lose_team = team_stats[game['Lteam']]\n",
    "            game_differential = [w - l for w, l in zip(win_team, lose_team)]\n",
    "            training_set_features.append(game_differential)\n",
    "            training_set_class.append(0) # Represents win\n",
    "            game_differential = [l - w for w, l in zip(win_team, lose_team)]\n",
    "            training_set_features.append(game_differential)\n",
    "            training_set_class.append(1) # Represents loss\n",
    "    return [np.asarray(training_set_features), np.asarray(training_set_class)]\n",
    "        \n",
    "training_set = create_training_set_averages()"
   ]
  },
  {
   "cell_type": "code",
   "execution_count": 137,
   "metadata": {
    "collapsed": true
   },
   "outputs": [],
   "source": [
    "# Create testing set (historical tournament data)\n",
    "\n",
    "def create_testing_set_averages():\n",
    "    testing_set_features = []\n",
    "    testing_set_class = []\n",
    "    for year in years:\n",
    "        team_stats = dict()\n",
    "        for team in teams['Team_Id']:\n",
    "            team_stats[team] = get_team_averages(team, year)\n",
    "        games = tourney_results.loc[tourney_results['Season'] == year]\n",
    "        for index, game in games.iterrows():\n",
    "            win_team = team_stats[game['Wteam']]\n",
    "            lose_team = team_stats[game['Lteam']]\n",
    "            game_differential = [w - l for w, l in zip(win_team, lose_team)]\n",
    "            testing_set_features.append(game_differential)\n",
    "            testing_set_class.append(0) # Represents win\n",
    "    return [np.asarray(testing_set_features), np.asarray(testing_set_class)]\n",
    "        \n",
    "testing_set = create_testing_set_averages()"
   ]
  },
  {
   "cell_type": "markdown",
   "metadata": {},
   "source": [
    "#### Game line statistics as feature vectors\n",
    "\n",
    "While the average feature vectors make more sense for actually predicting games, it is useful to know how the model would do if it knows the actual statistics for the game. This would give us an idea of a sort of best case scenario or thoeretical expected max for our model."
   ]
  },
  {
   "cell_type": "code",
   "execution_count": 153,
   "metadata": {
    "collapsed": false
   },
   "outputs": [],
   "source": [
    "def get_game_stats(game, team):\n",
    "    # Team\n",
    "    if game['Wfga']:\n",
    "        field_goal_percentage = game['Wfgm']/game['Wfga']\n",
    "    else:\n",
    "        field_goal_percentage = 0\n",
    "    if game['Wfga3']:\n",
    "        fg3pt_percentage = game['Wfgm3']/game['Wfga3']\n",
    "    else:\n",
    "        fg3pt_percentage = 0\n",
    "    if game['Wfta']:\n",
    "        ft_percentage = game['Wftm']/game['Wfta']\n",
    "    else:\n",
    "        ft_percentage = 0\n",
    "    # Opp\n",
    "    if game['Lfga']:\n",
    "        opp_field_goal_percentage = game['Lfgm']/game['Lfga']\n",
    "    else:\n",
    "        opp_field_goal_percentage = 0\n",
    "    if game['Lfga3']:\n",
    "        opp_fg3pt_percentage = game['Lfgm3']/game['Lfga3']\n",
    "    else:\n",
    "        opp_fg3pt_percentage = 0\n",
    "    if game['Lfta']:\n",
    "        opp_ft_percentage = game['Lftm']/game['Lfta']\n",
    "    else:\n",
    "        opp_ft_percentage = 0\n",
    "    \n",
    "    # Team\n",
    "    assists = game['Wast']\n",
    "    turnovers = game['Wto']\n",
    "    # Opp\n",
    "    opp_assists = game['Last']\n",
    "    opp_turnovers = game['Lto']\n",
    "\n",
    "    if team == 'Wteam':\n",
    "        # Tourney Seed\n",
    "        tourney_seeds_year = tourney_seeds.loc[tourney_seeds['Season'] == game['Season']]\n",
    "        tourney_seed = tourney_seeds_year.loc[tourney_seeds_year['Team'] == game['Wteam']]['Seed']\n",
    "        if len(tourney_seed):\n",
    "            tourney_seed = tourney_seed.tolist()[0][1:]\n",
    "            try:\n",
    "                tourney_seed = float(tourney_seed)\n",
    "            except:\n",
    "                tourney_seed = float(tourney_seed[:-1])\n",
    "        else:\n",
    "            tourney_seed = 20\n",
    "        return [field_goal_percentage, fg3pt_percentage, ft_percentage, assists, turnovers, tourney_seed,\n",
    "               opp_field_goal_percentage, opp_fg3pt_percentage, opp_ft_percentage, opp_assists, opp_turnovers]\n",
    "    elif team == 'Lteam':\n",
    "        # Tourney Seed\n",
    "        tourney_seeds_year = tourney_seeds.loc[tourney_seeds['Season'] == game['Season']]\n",
    "        tourney_seed = tourney_seeds_year.loc[tourney_seeds_year['Team'] == game['Lteam']]['Seed']\n",
    "        if len(tourney_seed):            \n",
    "            tourney_seed = tourney_seed.tolist()[0][1:]\n",
    "            try:\n",
    "                tourney_seed = float(tourney_seed)\n",
    "            except:\n",
    "                tourney_seed = float(tourney_seed[:-1])\n",
    "        else:\n",
    "            tourney_seed = 20\n",
    "        return [opp_field_goal_percentage, opp_fg3pt_percentage, opp_ft_percentage, opp_assists, opp_turnovers, tourney_seed,\n",
    "               field_goal_percentage, fg3pt_percentage, ft_percentage, assists, turnovers]\n",
    "    else: # Should never happen\n",
    "        return None"
   ]
  },
  {
   "cell_type": "code",
   "execution_count": 160,
   "metadata": {
    "collapsed": false
   },
   "outputs": [],
   "source": [
    "# Create training data set (2003 through 2015)\n",
    "years = list(range(2003, 2015 + 1))\n",
    "\n",
    "def create_training_set_games():\n",
    "    training_set_features = []\n",
    "    training_set_class = []\n",
    "    for year in years:\n",
    "        games = results.loc[results['Season'] == year]\n",
    "        for index, game in games.iterrows():\n",
    "            win_team = get_game_stats(game, 'Wteam')\n",
    "            lose_team = get_game_stats(game, 'Lteam')\n",
    "            game_differential = [w - l for w, l in zip(win_team, lose_team)]\n",
    "            training_set_features.append(game_differential)\n",
    "            training_set_class.append(0) # Represents win\n",
    "            game_differential = [l - w for w, l in zip(win_team, lose_team)]\n",
    "            training_set_features.append(game_differential)\n",
    "            training_set_class.append(1) # Represents loss\n",
    "    return [np.asarray(training_set_features), np.asarray(training_set_class)]\n",
    "        \n",
    "training_set_games = create_training_set_games()"
   ]
  },
  {
   "cell_type": "code",
   "execution_count": 159,
   "metadata": {
    "collapsed": false
   },
   "outputs": [],
   "source": [
    "# Create testing set (historical tournament data)\n",
    "\n",
    "def create_testing_set_games():\n",
    "    testing_set_features = []\n",
    "    testing_set_class = []\n",
    "    for year in years:\n",
    "        games = tourney_results.loc[tourney_results['Season'] == year]\n",
    "        for index, game in games.iterrows():\n",
    "            win_team = get_game_stats(game, 'Wteam')\n",
    "            lose_team = get_game_stats(game, 'Lteam')\n",
    "            game_differential = [w - l for w, l in zip(win_team, lose_team)]\n",
    "            testing_set_features.append(game_differential)\n",
    "            testing_set_class.append(0) # Represents win\n",
    "    return [np.asarray(testing_set_features), np.asarray(testing_set_class)]\n",
    "        \n",
    "testing_set_games = create_testing_set_games()"
   ]
  },
  {
   "cell_type": "code",
   "execution_count": 9,
   "metadata": {
    "collapsed": true
   },
   "outputs": [],
   "source": [
    "# If using MLP, scale data since it is sensitive to this\n",
    "\n",
    "def scale_sets():\n",
    "    from sklearn.preprocessing import StandardScaler  \n",
    "    scaler = StandardScaler()  \n",
    "    # Fit only on training data\n",
    "    scaler.fit(training_set[0])  \n",
    "    training_set[0] = scaler.transform(training_set[0])  \n",
    "    # Apply same transformation to test data\n",
    "    testing_set[0] = scaler.transform(testing_set[0])\n"
   ]
  },
  {
   "cell_type": "markdown",
   "metadata": {},
   "source": [
    "### Training and testing the model\n",
    "\n",
    "We used three different classifiers and evaulated each of their performances. In order to select a different classifier, simply comment out the `classifier_model` line with the desired classifier and re-run the training data fit and then testing data test."
   ]
  },
  {
   "cell_type": "markdown",
   "metadata": {},
   "source": [
    "#### Train the desired model"
   ]
  },
  {
   "cell_type": "code",
   "execution_count": 177,
   "metadata": {
    "collapsed": false
   },
   "outputs": [
    {
     "data": {
      "text/plain": [
       "MLPClassifier(activation='relu', alpha=0.0001, batch_size='auto', beta_1=0.9,\n",
       "       beta_2=0.999, early_stopping=False, epsilon=1e-08,\n",
       "       hidden_layer_sizes=(15, 5), learning_rate='constant',\n",
       "       learning_rate_init=0.001, max_iter=200, momentum=0.9,\n",
       "       nesterovs_momentum=True, power_t=0.5, random_state=True,\n",
       "       shuffle=True, solver='adam', tol=0.0001, validation_fraction=0.1,\n",
       "       verbose=False, warm_start=False)"
      ]
     },
     "execution_count": 177,
     "metadata": {},
     "output_type": "execute_result"
    }
   ],
   "source": [
    "# Train the model\n",
    "\n",
    "from sklearn.naive_bayes import GaussianNB\n",
    "from sklearn.linear_model import LogisticRegression\n",
    "from sklearn.neural_network import MLPClassifier\n",
    "\n",
    "\n",
    "#classifier_model = GaussianNB()\n",
    "#classifier_model = LogisticRegression()\n",
    "classifier_model = MLPClassifier(hidden_layer_sizes=(15, 5), random_state=True)\n",
    "\n",
    "\n",
    "classifier_model.fit(training_set[0], training_set[1])"
   ]
  },
  {
   "cell_type": "markdown",
   "metadata": {},
   "source": [
    "#### Test the model against\n",
    "\n",
    "Testing is done against all of the historical tournament games. The result is the percentage of games where the model was correct. This will give an overall idea of how well a model should be expected to perform."
   ]
  },
  {
   "cell_type": "code",
   "execution_count": 176,
   "metadata": {
    "collapsed": false
   },
   "outputs": [
    {
     "name": "stdout",
     "output_type": "stream",
     "text": [
      "The accuracy is 0.673960612691\n"
     ]
    }
   ],
   "source": [
    "# Test the accuracy of the model on historical tournament data\n",
    "\n",
    "def test_model(classifier_model, testing_set):\n",
    "    accuracy=[]\n",
    "    predictions = classifier_model.predict(testing_set[0])\n",
    "\n",
    "    predictions[predictions < .5] = 0\n",
    "    predictions[predictions >= .5] = 1\n",
    "    accuracy.append(np.mean(predictions == testing_set[1]))\n",
    "\n",
    "    print(\"The accuracy is\", sum(accuracy)/len(accuracy))\n",
    "    \n",
    "test_model(classifier_model, testing_set)"
   ]
  },
  {
   "cell_type": "markdown",
   "metadata": {},
   "source": [
    "### Individual Game Prediction\n",
    "\n",
    "This function can be used to predict any game in a given year! This will be used to predict the games of the tournament. It simply gets the team averages for the year and subtracts the difference to create the feature vector to predict games."
   ]
  },
  {
   "cell_type": "code",
   "execution_count": 180,
   "metadata": {
    "collapsed": false
   },
   "outputs": [
    {
     "name": "stdout",
     "output_type": "stream",
     "text": [
      "[ 0.45599637  0.54400363]\n"
     ]
    }
   ],
   "source": [
    "# Compare two teams average features to create new feature datastructure \n",
    "\n",
    "def predict(team1, team2, year):\n",
    "    team1_averages = get_team_averages(team1, year)\n",
    "    team2_averages = get_team_averages(team2, year)\n",
    "    game_differential = [w - l for w, l in zip(team1_averages, team2_averages)]\n",
    "    return classifier_model.predict_proba([game_differential])[0]\n",
    "\n",
    "# For fun predict Notre Dame vs UNC this past year\n",
    "# Team IDs can be found in the teams.csv file\n",
    "print(predict(1323, 1314, 2017))"
   ]
  },
  {
   "cell_type": "markdown",
   "metadata": {},
   "source": [
    "#### Bracket Prediciton\n",
    "\n",
    "This function will predict a bracket for a given year. The output format is the round and game followed by the winning team and the chance they would win."
   ]
  },
  {
   "cell_type": "code",
   "execution_count": 115,
   "metadata": {
    "collapsed": true
   },
   "outputs": [],
   "source": [
    "# Predict brackets!\n",
    "\n",
    "def predict_bracket(year):\n",
    "    year_tourney_slots = tourney_slots.loc[tourney_slots['Season'] == year]\n",
    "    year_tourney_seeds = tourney_seeds.loc[tourney_seeds['Season'] == year]\n",
    "\n",
    "    predictions = dict()\n",
    "    for index, row in year_tourney_slots.iterrows():\n",
    "        team1 = row['Strongseed']\n",
    "        team2 = row['Weakseed']\n",
    "        \n",
    "        while team1 not in year_tourney_seeds['Seed'].tolist():\n",
    "            team1 = predictions[team1][0]\n",
    "        while team2 not in year_tourney_seeds['Seed'].tolist():\n",
    "            team2 = predictions[team2][0]\n",
    "            \n",
    "        team1_id = year_tourney_seeds.loc[year_tourney_seeds['Seed'] == team1]['Team'].values[0]\n",
    "        team2_id = year_tourney_seeds.loc[year_tourney_seeds['Seed'] == team2]['Team'].values[0]\n",
    "        team1_name = teams.loc[teams['Team_Id'] == team1_id]['Team_Name'].values[0]\n",
    "        team2_name = teams.loc[teams['Team_Id'] == team2_id]['Team_Name'].values[0]\n",
    "        \n",
    "        prediction = predict(team1_id, team2_id, year)\n",
    "        \n",
    "        monte_carlo_factor = random.uniform(0.9, 1.1)\n",
    "        if prediction[0]*monte_carlo_factor >= 0.5:\n",
    "            predictions[row['Slot']] = [team1, team1_name, prediction[0]]\n",
    "        else:\n",
    "            predictions[row['Slot']] = [team2, team2_name, prediction[1]]\n",
    "    return predictions\n"
   ]
  },
  {
   "cell_type": "markdown",
   "metadata": {},
   "source": [
    "### 2017 Bracket Predicted "
   ]
  },
  {
   "cell_type": "code",
   "execution_count": 181,
   "metadata": {
    "collapsed": false
   },
   "outputs": [
    {
     "data": {
      "text/plain": [
       "{'R1W1': ['W01', 'Villanova', 0.89966138140662155],\n",
       " 'R1W2': ['W02', 'Duke', 0.8345099562261189],\n",
       " 'R1W3': ['W03', 'Baylor', 0.71571870929893355],\n",
       " 'R1W4': ['W04', 'Florida', 0.70251950533055063],\n",
       " 'R1W5': ['W05', 'Virginia', 0.81317805558077549],\n",
       " 'R1W6': ['W06', 'SMU', 0.78551103057399185],\n",
       " 'R1W7': ['W10', 'Marquette', 0.49215820662964849],\n",
       " 'R1W8': ['W08', 'Wisconsin', 0.55328411264626565],\n",
       " 'R1X1': ['X01', 'Gonzaga', 0.92553541252262717],\n",
       " 'R1X2': ['X02', 'Arizona', 0.80883808581282024],\n",
       " 'R1X3': ['X03', 'Florida St', 0.79229791140633388],\n",
       " 'R1X4': ['X04', 'West Virginia', 0.78642318522983734],\n",
       " 'R1X5': ['X05', 'Notre Dame', 0.67967452371500137],\n",
       " 'R1X6': ['X06', 'Maryland', 0.72041455071806781],\n",
       " 'R1X7': ['X07', \"St Mary's CA\", 0.75516604899918116],\n",
       " 'R1X8': ['X08', 'Northwestern', 0.72583978755019807],\n",
       " 'R1Y1': ['Y01', 'Kansas', 0.73187022085926601],\n",
       " 'R1Y2': ['Y02', 'Louisville', 0.87023776851457013],\n",
       " 'R1Y3': ['Y03', 'Oregon', 0.83850831280914639],\n",
       " 'R1Y4': ['Y04', 'Purdue', 0.68470187685132999],\n",
       " 'R1Y5': ['Y05', 'Iowa St', 0.74419090038937663],\n",
       " 'R1Y6': ['Y06', 'Creighton', 0.65774668889009835],\n",
       " 'R1Y7': ['Y07', 'Michigan', 0.72190064333520576],\n",
       " 'R1Y8': ['Y09', 'Michigan St', 0.47745464808668225],\n",
       " 'R1Z1': ['Z01', 'North Carolina', 0.87985089675061634],\n",
       " 'R1Z2': ['Z02', 'Kentucky', 0.88899243244941695],\n",
       " 'R1Z3': ['Z03', 'UCLA', 0.91576474852355627],\n",
       " 'R1Z4': ['Z04', 'Butler', 0.73407322791150387],\n",
       " 'R1Z5': ['Z05', 'Minnesota', 0.6015471515977211],\n",
       " 'R1Z6': ['Z06', 'Cincinnati', 0.78867425695395421],\n",
       " 'R1Z7': ['Z07', 'Dayton', 0.46469653976119707],\n",
       " 'R1Z8': ['Z08', 'Arkansas', 0.74990302268741726],\n",
       " 'R2W1': ['W01', 'Villanova', 0.75878750954765251],\n",
       " 'R2W2': ['W02', 'Duke', 0.72367129986318723],\n",
       " 'R2W3': ['W06', 'SMU', 0.5214897985421928],\n",
       " 'R2W4': ['W05', 'Virginia', 0.58813246191963364],\n",
       " 'R2X1': ['X01', 'Gonzaga', 0.86451640798226181],\n",
       " 'R2X2': ['X07', \"St Mary's CA\", 0.5364632429913837],\n",
       " 'R2X3': ['X03', 'Florida St', 0.72687870652062903],\n",
       " 'R2X4': ['X04', 'West Virginia', 0.57625772298776012],\n",
       " 'R2Y1': ['Y01', 'Kansas', 0.74572116924228538],\n",
       " 'R2Y2': ['Y02', 'Louisville', 0.68389869395830449],\n",
       " 'R2Y3': ['Y03', 'Oregon', 0.65090009487599954],\n",
       " 'R2Y4': ['Y04', 'Purdue', 0.50899849082888615],\n",
       " 'R2Z1': ['Z01', 'North Carolina', 0.71141820699193636],\n",
       " 'R2Z2': ['Z02', 'Kentucky', 0.65079141188940914],\n",
       " 'R2Z3': ['Z03', 'UCLA', 0.69389502699239525],\n",
       " 'R2Z4': ['Z04', 'Butler', 0.61774280209670995],\n",
       " 'R3W1': ['W01', 'Villanova', 0.55846199067374913],\n",
       " 'R3W2': ['W02', 'Duke', 0.49779526967149379],\n",
       " 'R3X1': ['X01', 'Gonzaga', 0.79461965098110032],\n",
       " 'R3X2': ['X03', 'Florida St', 0.4638876776986115],\n",
       " 'R3Y1': ['Y01', 'Kansas', 0.56985372241689647],\n",
       " 'R3Y2': ['Y03', 'Oregon', 0.5456703522165518],\n",
       " 'R3Z1': ['Z01', 'North Carolina', 0.61210483843803809],\n",
       " 'R3Z2': ['Z03', 'UCLA', 0.62509206794674965],\n",
       " 'R4W1': ['W01', 'Villanova', 0.69663816918027299],\n",
       " 'R4X1': ['X01', 'Gonzaga', 0.79276072189315183],\n",
       " 'R4Y1': ['Y03', 'Oregon', 0.53334438331837619],\n",
       " 'R4Z1': ['Z03', 'UCLA', 0.5943787754233254],\n",
       " 'R5WX': ['X01', 'Gonzaga', 0.76500351367524266],\n",
       " 'R5YZ': ['Z03', 'UCLA', 0.60221625895239084],\n",
       " 'R6CH': ['X01', 'Gonzaga', 0.70311064185151007],\n",
       " 'W11': ['W11b', 'USC', 0.57044638844354334],\n",
       " 'W16': ['W16b', 'New Orleans', 0.51040189518947154],\n",
       " 'Y16': ['Y16a', 'NC Central', 0.80961296555640794],\n",
       " 'Z11': ['Z11a', 'Kansas St', 0.55347946348153942]}"
      ]
     },
     "execution_count": 181,
     "metadata": {},
     "output_type": "execute_result"
    }
   ],
   "source": [
    "\n",
    "predict_bracket(2017)\n"
   ]
  },
  {
   "cell_type": "code",
   "execution_count": null,
   "metadata": {
    "collapsed": true
   },
   "outputs": [],
   "source": []
  }
 ],
 "metadata": {
  "anaconda-cloud": {},
  "kernelspec": {
   "display_name": "Python [conda root]",
   "language": "python",
   "name": "conda-root-py"
  },
  "language_info": {
   "codemirror_mode": {
    "name": "ipython",
    "version": 3
   },
   "file_extension": ".py",
   "mimetype": "text/x-python",
   "name": "python",
   "nbconvert_exporter": "python",
   "pygments_lexer": "ipython3",
   "version": "3.5.2"
  }
 },
 "nbformat": 4,
 "nbformat_minor": 1
}
